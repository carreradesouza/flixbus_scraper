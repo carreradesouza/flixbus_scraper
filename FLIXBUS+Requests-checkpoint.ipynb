{
 "cells": [
  {
   "cell_type": "markdown",
   "metadata": {},
   "source": [
    "## Requests ##"
   ]
  },
  {
   "cell_type": "markdown",
   "metadata": {},
   "source": [
    "##### * Librería para hacer consultas a páginas HTTP #####\n",
    "##### * Útil para inspeccionar y extraer data de una página HTTP #####\n",
    "##### * Conceptualmente similar a Selenium, pero (i) más rápida y (ii) no abre el navegador #####\n",
    "##### * Hace muy facil el proceso de pegarle a una API y extraer datos #####"
   ]
  },
  {
   "cell_type": "markdown",
   "metadata": {},
   "source": [
    "### Primeros pasos"
   ]
  },
  {
   "cell_type": "raw",
   "metadata": {},
   "source": [
    "$ pip install requests"
   ]
  },
  {
   "cell_type": "markdown",
   "metadata": {},
   "source": [
    "```python \n",
    "import requests \n",
    "```"
   ]
  },
  {
   "cell_type": "markdown",
   "metadata": {},
   "source": [
    "### GET ###\n",
    "##### Con \n",
    "``` python \n",
    "requests.get() \n",
    "``` \n",
    "##### se le indica a Python la URL a la que queremos pegarle #####"
   ]
  },
  {
   "cell_type": "code",
   "execution_count": 28,
   "metadata": {},
   "outputs": [
    {
     "data": {
      "text/plain": [
       "<Response [200]>"
      ]
     },
     "execution_count": 28,
     "metadata": {},
     "output_type": "execute_result"
    }
   ],
   "source": [
    "# Por ejemplo, si queremos pegarle a la API de GITHUB https://api.github.com\n",
    "requests.get('https://api.github.com')"
   ]
  },
  {
   "cell_type": "markdown",
   "metadata": {},
   "source": [
    "##### Si al correr  requests.get() la respuesta es Response [200], la pegada fue exitosa. Si devuelve Response [400] o Response [404] hubo un error #####"
   ]
  },
  {
   "cell_type": "markdown",
   "metadata": {},
   "source": [
    "#### Se puede definir una variable con el contenido de la página a la que le pegamos ####"
   ]
  },
  {
   "cell_type": "code",
   "execution_count": 18,
   "metadata": {},
   "outputs": [],
   "source": [
    "github = requests.get('https://api.github.com')"
   ]
  },
  {
   "cell_type": "markdown",
   "metadata": {},
   "source": [
    "##### Al definir la variable no nos devuelve el response. Si queremos saber cuál fue tenemos que consultar el \"status_code\"\n"
   ]
  },
  {
   "cell_type": "code",
   "execution_count": 29,
   "metadata": {},
   "outputs": [
    {
     "data": {
      "text/plain": [
       "200"
      ]
     },
     "execution_count": 29,
     "metadata": {},
     "output_type": "execute_result"
    }
   ],
   "source": [
    "github.status_code"
   ]
  },
  {
   "cell_type": "markdown",
   "metadata": {},
   "source": [
    "### Visualizar el contenido de la página"
   ]
  },
  {
   "cell_type": "markdown",
   "metadata": {},
   "source": [
    "##### .text o .content  devuelve el contenido de la página en formato texto"
   ]
  },
  {
   "cell_type": "code",
   "execution_count": 30,
   "metadata": {},
   "outputs": [
    {
     "data": {
      "text/plain": [
       "'{\\n  \"current_user_url\": \"https://api.github.com/user\",\\n  \"current_user_authorizations_html_url\": \"https://github.com/settings/connections/applications{/client_id}\",\\n  \"authorizations_url\": \"https://api.github.com/authorizations\",\\n  \"code_search_url\": \"https://api.github.com/search/code?q={query}{&page,per_page,sort,order}\",\\n  \"commit_search_url\": \"https://api.github.com/search/commits?q={query}{&page,per_page,sort,order}\",\\n  \"emails_url\": \"https://api.github.com/user/emails\",\\n  \"emojis_url\": \"https://api.github.com/emojis\",\\n  \"events_url\": \"https://api.github.com/events\",\\n  \"feeds_url\": \"https://api.github.com/feeds\",\\n  \"followers_url\": \"https://api.github.com/user/followers\",\\n  \"following_url\": \"https://api.github.com/user/following{/target}\",\\n  \"gists_url\": \"https://api.github.com/gists{/gist_id}\",\\n  \"hub_url\": \"https://api.github.com/hub\",\\n  \"issue_search_url\": \"https://api.github.com/search/issues?q={query}{&page,per_page,sort,order}\",\\n  \"issues_url\": \"https://api.github.com/issues\",\\n  \"keys_url\": \"https://api.github.com/user/keys\",\\n  \"label_search_url\": \"https://api.github.com/search/labels?q={query}&repository_id={repository_id}{&page,per_page}\",\\n  \"notifications_url\": \"https://api.github.com/notifications\",\\n  \"organization_url\": \"https://api.github.com/orgs/{org}\",\\n  \"organization_repositories_url\": \"https://api.github.com/orgs/{org}/repos{?type,page,per_page,sort}\",\\n  \"organization_teams_url\": \"https://api.github.com/orgs/{org}/teams\",\\n  \"public_gists_url\": \"https://api.github.com/gists/public\",\\n  \"rate_limit_url\": \"https://api.github.com/rate_limit\",\\n  \"repository_url\": \"https://api.github.com/repos/{owner}/{repo}\",\\n  \"repository_search_url\": \"https://api.github.com/search/repositories?q={query}{&page,per_page,sort,order}\",\\n  \"current_user_repositories_url\": \"https://api.github.com/user/repos{?type,page,per_page,sort}\",\\n  \"starred_url\": \"https://api.github.com/user/starred{/owner}{/repo}\",\\n  \"starred_gists_url\": \"https://api.github.com/gists/starred\",\\n  \"user_url\": \"https://api.github.com/users/{user}\",\\n  \"user_organizations_url\": \"https://api.github.com/user/orgs\",\\n  \"user_repositories_url\": \"https://api.github.com/users/{user}/repos{?type,page,per_page,sort}\",\\n  \"user_search_url\": \"https://api.github.com/search/users?q={query}{&page,per_page,sort,order}\"\\n}\\n'"
      ]
     },
     "execution_count": 30,
     "metadata": {},
     "output_type": "execute_result"
    }
   ],
   "source": [
    "github.text"
   ]
  },
  {
   "cell_type": "markdown",
   "metadata": {},
   "source": [
    "##### .json() devuelve el contenido de la página en formato JSON (Para un lector de JSON usar http://jsonviewer.stack.hu/)"
   ]
  },
  {
   "cell_type": "code",
   "execution_count": 25,
   "metadata": {},
   "outputs": [
    {
     "data": {
      "text/plain": [
       "{'current_user_url': 'https://api.github.com/user',\n",
       " 'current_user_authorizations_html_url': 'https://github.com/settings/connections/applications{/client_id}',\n",
       " 'authorizations_url': 'https://api.github.com/authorizations',\n",
       " 'code_search_url': 'https://api.github.com/search/code?q={query}{&page,per_page,sort,order}',\n",
       " 'commit_search_url': 'https://api.github.com/search/commits?q={query}{&page,per_page,sort,order}',\n",
       " 'emails_url': 'https://api.github.com/user/emails',\n",
       " 'emojis_url': 'https://api.github.com/emojis',\n",
       " 'events_url': 'https://api.github.com/events',\n",
       " 'feeds_url': 'https://api.github.com/feeds',\n",
       " 'followers_url': 'https://api.github.com/user/followers',\n",
       " 'following_url': 'https://api.github.com/user/following{/target}',\n",
       " 'gists_url': 'https://api.github.com/gists{/gist_id}',\n",
       " 'hub_url': 'https://api.github.com/hub',\n",
       " 'issue_search_url': 'https://api.github.com/search/issues?q={query}{&page,per_page,sort,order}',\n",
       " 'issues_url': 'https://api.github.com/issues',\n",
       " 'keys_url': 'https://api.github.com/user/keys',\n",
       " 'label_search_url': 'https://api.github.com/search/labels?q={query}&repository_id={repository_id}{&page,per_page}',\n",
       " 'notifications_url': 'https://api.github.com/notifications',\n",
       " 'organization_url': 'https://api.github.com/orgs/{org}',\n",
       " 'organization_repositories_url': 'https://api.github.com/orgs/{org}/repos{?type,page,per_page,sort}',\n",
       " 'organization_teams_url': 'https://api.github.com/orgs/{org}/teams',\n",
       " 'public_gists_url': 'https://api.github.com/gists/public',\n",
       " 'rate_limit_url': 'https://api.github.com/rate_limit',\n",
       " 'repository_url': 'https://api.github.com/repos/{owner}/{repo}',\n",
       " 'repository_search_url': 'https://api.github.com/search/repositories?q={query}{&page,per_page,sort,order}',\n",
       " 'current_user_repositories_url': 'https://api.github.com/user/repos{?type,page,per_page,sort}',\n",
       " 'starred_url': 'https://api.github.com/user/starred{/owner}{/repo}',\n",
       " 'starred_gists_url': 'https://api.github.com/gists/starred',\n",
       " 'user_url': 'https://api.github.com/users/{user}',\n",
       " 'user_organizations_url': 'https://api.github.com/user/orgs',\n",
       " 'user_repositories_url': 'https://api.github.com/users/{user}/repos{?type,page,per_page,sort}',\n",
       " 'user_search_url': 'https://api.github.com/search/users?q={query}{&page,per_page,sort,order}'}"
      ]
     },
     "execution_count": 25,
     "metadata": {},
     "output_type": "execute_result"
    }
   ],
   "source": [
    "github.json()"
   ]
  },
  {
   "cell_type": "markdown",
   "metadata": {},
   "source": [
    "##### También se puede definir al JSON como una variable, para después extraer la data"
   ]
  },
  {
   "cell_type": "code",
   "execution_count": 26,
   "metadata": {},
   "outputs": [],
   "source": [
    "json = github.json()"
   ]
  },
  {
   "cell_type": "markdown",
   "metadata": {},
   "source": [
    "___"
   ]
  },
  {
   "cell_type": "markdown",
   "metadata": {},
   "source": [
    "___"
   ]
  },
  {
   "cell_type": "code",
   "execution_count": 1,
   "metadata": {},
   "outputs": [],
   "source": [
    "import requests\n",
    "import pandas as pd\n",
    "#from time import sleep\n",
    "import datetime\n",
    "from datetime import datetime\n",
    "import time\n",
    "from datetime import timedelta\n",
    "import csv, operator\n",
    "import os\n",
    "\n",
    "headers = {'omio':'omio_bi'}"
   ]
  },
  {
   "cell_type": "code",
   "execution_count": 52,
   "metadata": {},
   "outputs": [
    {
     "name": "stdout",
     "output_type": "stream",
     "text": [
      "Amsterdam Paris 2020-07-05 1 legs 24.99\n",
      "Amsterdam Paris 2020-07-05 1 legs 24.99\n",
      "Amsterdam Paris 2020-07-05 1 legs 28.99\n",
      "Amsterdam Paris 2020-07-05 1 legs 28.99\n",
      "Amsterdam Paris 2020-07-05 1 legs 28.99\n",
      "Amsterdam Paris 2020-07-05 1 legs 24.99\n",
      "Amsterdam Paris 2020-07-05 1 legs 44.99\n",
      "Amsterdam Paris 2020-07-05 1 legs 44.99\n",
      "Amsterdam Paris 2020-07-05 1 legs 44.99\n",
      "Amsterdam Paris 2020-07-05 1 legs 18.99\n",
      "Amsterdam Paris 2020-07-05 1 legs 28.99\n",
      "Amsterdam Paris 2020-07-05 1 legs 44.99\n",
      "Amsterdam Paris 2020-07-05 2 legs 29.98\n",
      "Amsterdam Paris 2020-07-05 2 legs 31.98\n",
      "Amsterdam Paris 2020-07-05 2 legs 28.98\n",
      "Amsterdam Paris 2020-07-05 2 legs 27.98\n",
      "Amsterdam Paris 2020-07-05 2 legs 44.98\n",
      "Amsterdam Paris 2020-07-05 1 legs 44.99\n",
      "Amsterdam Paris 2020-07-05 1 legs 28.99\n",
      "Amsterdam Paris 2020-07-05 1 legs 28.99\n",
      "Amsterdam Paris 2020-07-05 2 legs 25.98\n",
      "Amsterdam Paris 2020-07-05 2 legs 46.98\n",
      "Amsterdam Paris 2020-07-05 1 legs 44.99\n",
      "Amsterdam Paris 2020-07-06 1 legs 18.99\n",
      "Amsterdam Paris 2020-07-06 1 legs 18.99\n",
      "Amsterdam Paris 2020-07-06 1 legs 18.99\n",
      "Amsterdam Paris 2020-07-06 1 legs 18.99\n",
      "Amsterdam Paris 2020-07-06 1 legs 18.99\n",
      "Amsterdam Paris 2020-07-06 1 legs 18.99\n",
      "Amsterdam Paris 2020-07-06 1 legs 28.99\n",
      "Amsterdam Paris 2020-07-06 1 legs 24.99\n",
      "Amsterdam Paris 2020-07-06 1 legs 18.99\n",
      "Amsterdam Paris 2020-07-06 2 legs 16.98\n",
      "Amsterdam Paris 2020-07-06 1 legs 18.99\n",
      "Amsterdam Paris 2020-07-06 1 legs 34.99\n",
      "Amsterdam Paris 2020-07-06 2 legs 28.98\n",
      "Amsterdam Paris 2020-07-06 2 legs 21.98\n",
      "Amsterdam Paris 2020-07-06 1 legs 28.99\n",
      "Amsterdam Paris 2020-07-06 1 legs 44.99\n",
      "Amsterdam Paris 2020-07-06 2 legs 23.98\n",
      "Amsterdam Paris 2020-07-06 2 legs 23.98\n",
      "Amsterdam Paris 2020-07-07 1 legs 18.99\n",
      "Amsterdam Paris 2020-07-07 1 legs 18.99\n",
      "Amsterdam Paris 2020-07-07 1 legs 18.99\n",
      "Amsterdam Paris 2020-07-07 1 legs 18.99\n",
      "Amsterdam Paris 2020-07-07 1 legs 18.99\n",
      "Amsterdam Paris 2020-07-07 1 legs 24.99\n",
      "Amsterdam Paris 2020-07-07 1 legs 24.99\n",
      "Amsterdam Paris 2020-07-07 1 legs 18.99\n",
      "Amsterdam Paris 2020-07-07 2 legs 16.98\n",
      "Amsterdam Paris 2020-07-07 1 legs 18.99\n",
      "Amsterdam Paris 2020-07-07 1 legs 28.99\n",
      "Amsterdam Paris 2020-07-07 2 legs 28.98\n",
      "Amsterdam Paris 2020-07-07 2 legs 23.98\n",
      "Amsterdam Paris 2020-07-07 1 legs 24.99\n",
      "Amsterdam Paris 2020-07-07 1 legs 24.99\n",
      "Amsterdam Paris 2020-07-07 2 legs 23.98\n",
      "Amsterdam Paris 2020-07-08 1 legs 18.99\n",
      "Amsterdam Paris 2020-07-08 1 legs 18.99\n",
      "Amsterdam Paris 2020-07-08 1 legs 18.99\n",
      "Amsterdam Paris 2020-07-08 1 legs 18.99\n",
      "Amsterdam Paris 2020-07-08 1 legs 18.99\n",
      "Amsterdam Paris 2020-07-08 1 legs 28.99\n",
      "Amsterdam Paris 2020-07-08 1 legs 28.99\n",
      "Amsterdam Paris 2020-07-08 1 legs 18.99\n",
      "Amsterdam Paris 2020-07-08 2 legs 16.98\n",
      "Amsterdam Paris 2020-07-08 1 legs 18.99\n",
      "Amsterdam Paris 2020-07-08 1 legs 28.99\n",
      "Amsterdam Paris 2020-07-08 2 legs 28.98\n",
      "Amsterdam Paris 2020-07-08 2 legs 25.98\n",
      "Amsterdam Paris 2020-07-08 1 legs 28.99\n",
      "Amsterdam Paris 2020-07-08 1 legs 24.99\n",
      "Amsterdam Paris 2020-07-08 2 legs 23.98\n",
      "Amsterdam Paris 2020-07-09 1 legs 18.99\n",
      "Amsterdam Paris 2020-07-09 1 legs 18.99\n",
      "Amsterdam Paris 2020-07-09 1 legs 24.99\n",
      "Amsterdam Paris 2020-07-09 1 legs 18.99\n",
      "Amsterdam Paris 2020-07-09 1 legs 18.99\n",
      "Amsterdam Paris 2020-07-09 1 legs 18.99\n",
      "Amsterdam Paris 2020-07-09 1 legs 18.99\n",
      "Amsterdam Paris 2020-07-09 1 legs 28.99\n",
      "Amsterdam Paris 2020-07-09 1 legs 24.99\n",
      "Amsterdam Paris 2020-07-09 1 legs 28.99\n",
      "Amsterdam Paris 2020-07-09 1 legs 18.99\n",
      "Amsterdam Paris 2020-07-09 1 legs 18.99\n",
      "Amsterdam Paris 2020-07-09 1 legs 34.99\n",
      "Amsterdam Paris 2020-07-09 2 legs 23.98\n",
      "Amsterdam Paris 2020-07-09 2 legs 28.98\n",
      "Amsterdam Paris 2020-07-09 2 legs 23.98\n",
      "Amsterdam Paris 2020-07-09 1 legs 24.99\n",
      "Amsterdam Paris 2020-07-09 1 legs 28.99\n",
      "Amsterdam Paris 2020-07-09 1 legs 24.99\n",
      "Amsterdam Paris 2020-07-09 2 legs 23.98\n",
      "Amsterdam Paris 2020-07-09 1 legs 28.99\n",
      "Amsterdam Paris 2020-07-10 1 legs 24.99\n",
      "Amsterdam Paris 2020-07-10 1 legs 24.99\n",
      "Amsterdam Paris 2020-07-10 1 legs 24.99\n",
      "Amsterdam Paris 2020-07-10 1 legs 18.99\n",
      "Amsterdam Paris 2020-07-10 1 legs 18.99\n",
      "Amsterdam Paris 2020-07-10 1 legs 18.99\n",
      "Amsterdam Paris 2020-07-10 1 legs 18.99\n",
      "Amsterdam Paris 2020-07-10 1 legs 44.99\n",
      "Amsterdam Paris 2020-07-10 1 legs 44.99\n",
      "Amsterdam Paris 2020-07-10 1 legs 34.99\n",
      "Amsterdam Paris 2020-07-10 1 legs 18.99\n",
      "Amsterdam Paris 2020-07-10 1 legs 18.99\n",
      "Amsterdam Paris 2020-07-10 1 legs 44.99\n",
      "Amsterdam Paris 2020-07-10 2 legs 29.98\n",
      "Amsterdam Paris 2020-07-10 2 legs 25.98\n",
      "Amsterdam Paris 2020-07-10 2 legs 25.98\n",
      "Amsterdam Paris 2020-07-10 2 legs 44.98\n",
      "Amsterdam Paris 2020-07-10 1 legs 44.99\n",
      "Amsterdam Paris 2020-07-10 1 legs 28.99\n",
      "Amsterdam Paris 2020-07-10 1 legs 24.99\n",
      "Amsterdam Paris 2020-07-10 2 legs 23.98\n",
      "Amsterdam Paris 2020-07-10 2 legs 46.98\n",
      "Amsterdam Paris 2020-07-10 1 legs 44.99\n",
      "Amsterdam Paris 2020-07-11 1 legs 24.99\n",
      "Amsterdam Paris 2020-07-11 1 legs 24.99\n",
      "Amsterdam Paris 2020-07-11 1 legs 24.99\n",
      "Amsterdam Paris 2020-07-11 1 legs 18.99\n",
      "Amsterdam Paris 2020-07-11 1 legs 18.99\n",
      "Amsterdam Paris 2020-07-11 1 legs 18.99\n",
      "Amsterdam Paris 2020-07-11 1 legs 18.99\n",
      "Amsterdam Paris 2020-07-11 1 legs 34.99\n",
      "Amsterdam Paris 2020-07-11 1 legs 34.99\n",
      "Amsterdam Paris 2020-07-11 1 legs 34.99\n",
      "Amsterdam Paris 2020-07-11 1 legs 18.99\n",
      "Amsterdam Paris 2020-07-11 2 legs 16.98\n",
      "Amsterdam Paris 2020-07-11 1 legs 18.99\n",
      "Amsterdam Paris 2020-07-11 1 legs 34.99\n",
      "Amsterdam Paris 2020-07-11 2 legs 25.98\n",
      "Amsterdam Paris 2020-07-11 2 legs 30.98\n",
      "Amsterdam Paris 2020-07-11 2 legs 25.98\n",
      "Amsterdam Paris 2020-07-11 2 legs 25.98\n",
      "Amsterdam Paris 2020-07-11 2 legs 44.98\n",
      "Amsterdam Paris 2020-07-11 1 legs 34.99\n",
      "Amsterdam Paris 2020-07-11 1 legs 34.99\n",
      "Amsterdam Paris 2020-07-11 1 legs 24.99\n",
      "Amsterdam Paris 2020-07-11 2 legs 23.98\n",
      "Amsterdam Paris 2020-07-11 2 legs 46.98\n",
      "Amsterdam Paris 2020-07-11 1 legs 34.99\n",
      "Amsterdam Paris 2020-07-12 1 legs 24.99\n",
      "Amsterdam Paris 2020-07-12 1 legs 28.99\n",
      "Amsterdam Paris 2020-07-12 1 legs 28.99\n",
      "Amsterdam Paris 2020-07-12 1 legs 24.99\n",
      "Amsterdam Paris 2020-07-12 1 legs 28.99\n",
      "Amsterdam Paris 2020-07-12 1 legs 28.99\n",
      "Amsterdam Paris 2020-07-12 1 legs 18.99\n",
      "Amsterdam Paris 2020-07-12 1 legs 44.99\n",
      "Amsterdam Paris 2020-07-12 1 legs 44.99\n",
      "Amsterdam Paris 2020-07-12 1 legs 44.99\n",
      "Amsterdam Paris 2020-07-12 1 legs 18.99\n",
      "Amsterdam Paris 2020-07-12 2 legs 19.98\n",
      "Amsterdam Paris 2020-07-12 1 legs 18.99\n",
      "Amsterdam Paris 2020-07-12 1 legs 44.99\n",
      "Amsterdam Paris 2020-07-12 2 legs 32.98\n",
      "Amsterdam Paris 2020-07-12 2 legs 37.98\n",
      "Amsterdam Paris 2020-07-12 2 legs 28.98\n",
      "Amsterdam Paris 2020-07-12 2 legs 25.98\n",
      "Amsterdam Paris 2020-07-12 2 legs 44.98\n",
      "Amsterdam Paris 2020-07-12 1 legs 44.99\n",
      "Amsterdam Paris 2020-07-12 1 legs 34.99\n",
      "Amsterdam Paris 2020-07-12 1 legs 28.99\n",
      "Amsterdam Paris 2020-07-12 2 legs 23.98\n",
      "Amsterdam Paris 2020-07-12 2 legs 46.98\n",
      "Amsterdam Paris 2020-07-12 1 legs 44.99\n",
      "Amsterdam Paris 2020-07-13 1 legs 18.99\n",
      "Amsterdam Paris 2020-07-13 1 legs 24.99\n",
      "Amsterdam Paris 2020-07-13 1 legs 18.99\n",
      "Amsterdam Paris 2020-07-13 1 legs 18.99\n",
      "Amsterdam Paris 2020-07-13 1 legs 18.99\n",
      "Amsterdam Paris 2020-07-13 1 legs 18.99\n",
      "Amsterdam Paris 2020-07-13 1 legs 34.99\n",
      "Amsterdam Paris 2020-07-13 1 legs 28.99\n",
      "Amsterdam Paris 2020-07-13 1 legs 24.99\n",
      "Amsterdam Paris 2020-07-13 2 legs 16.98\n",
      "Amsterdam Paris 2020-07-13 1 legs 18.99\n",
      "Amsterdam Paris 2020-07-13 1 legs 34.99\n",
      "Amsterdam Paris 2020-07-13 2 legs 23.98\n",
      "Amsterdam Paris 2020-07-13 2 legs 28.98\n",
      "Amsterdam Paris 2020-07-13 2 legs 21.98\n",
      "Amsterdam Paris 2020-07-13 1 legs 34.99\n",
      "Amsterdam Paris 2020-07-13 1 legs 44.99\n",
      "Amsterdam Paris 2020-07-13 2 legs 23.98\n",
      "Amsterdam Paris 2020-07-13 2 legs 23.98\n",
      "Amsterdam Paris 2020-07-14 1 legs 18.99\n",
      "Amsterdam Paris 2020-07-14 1 legs 18.99\n",
      "Amsterdam Paris 2020-07-14 1 legs 24.99\n",
      "Amsterdam Paris 2020-07-14 1 legs 24.99\n",
      "Amsterdam Paris 2020-07-14 1 legs 18.99\n",
      "Amsterdam Paris 2020-07-14 1 legs 34.99\n",
      "Amsterdam Paris 2020-07-14 1 legs 28.99\n",
      "Amsterdam Paris 2020-07-14 1 legs 18.99\n",
      "Amsterdam Paris 2020-07-14 2 legs 19.98\n",
      "Amsterdam Paris 2020-07-14 1 legs 18.99\n",
      "Amsterdam Paris 2020-07-14 1 legs 28.99\n",
      "Amsterdam Paris 2020-07-14 2 legs 28.98\n",
      "Amsterdam Paris 2020-07-14 2 legs 21.98\n",
      "Amsterdam Paris 2020-07-14 1 legs 34.99\n",
      "Amsterdam Paris 2020-07-14 1 legs 28.99\n",
      "Amsterdam Paris 2020-07-14 2 legs 23.98\n"
     ]
    }
   ],
   "source": [
    "##Some codes: Berlin 88, London 3848, Amsterdam 1334, Paris 2015\n",
    "\n",
    "read_date = datetime.now().strftime(\"%Y-%m-%d\")\n",
    "cwd = os.getcwd()\n",
    "\n",
    "filename = \"requests_debrief_1\"\n",
    "\n",
    "csvsalida = open(cwd + '/' + filename + '.csv', 'w', newline='')\n",
    "salida = csv.writer(csvsalida, delimiter='|', quotechar='\"', quoting=csv.QUOTE_ALL)\n",
    "\n",
    "salida.writerow(['read_date', 'origin', 'destination', 'price','departure_time', 'arrival_time', 'legs'])\n",
    "\n",
    "\n",
    "for d in range (30, 40):\n",
    "    date = (datetime.now() + timedelta(days=d)).strftime(\"%Y-%m-%d\")\n",
    "    r = requests.get('https://1.flixbus.transport.rest/journeys/?origin=1334&destination=2015&date='+date+'T10:30:00', headers=headers)\n",
    "    r_json = r.json()\n",
    "    \n",
    "    for i in range(0, len(r_json)):\n",
    "        dep_time=r_json[i]['departure']\n",
    "        arr_time=r_json[i]['arrival']\n",
    "        origin='Amsterdam'\n",
    "        destination='Paris'\n",
    "        legs=len(r_json[i]['legs'])\n",
    "        l=len(r_json[i]['legs'])\n",
    "        j=0\n",
    "        station=''\n",
    "        while l > 0:      \n",
    "            origins=r_json[i]['legs'][j]['origin']['name']\n",
    "            station+=origins+'&'\n",
    "            dest_station=r_json[i]['legs'][j]['destination']['name']\n",
    "            l-=1\n",
    "            j+=1\n",
    "        station+=dest_station\n",
    "        price=r_json[i]['price']['amount']\n",
    "        curr=r_json[i]['price']['currency']\n",
    "        \n",
    "        salida.writerow([read_date, origin, destination, price,dep_time, arr_time, legs])\n",
    "        \n",
    "        # print(origin, destination, date, legs,\"legs\",price)\n",
    "    \n",
    "del salida\n",
    "csvsalida.close()"
   ]
  }
 ],
 "metadata": {
  "kernelspec": {
   "display_name": "Python 3",
   "language": "python",
   "name": "python3"
  },
  "language_info": {
   "codemirror_mode": {
    "name": "ipython",
    "version": 3
   },
   "file_extension": ".py",
   "mimetype": "text/x-python",
   "name": "python",
   "nbconvert_exporter": "python",
   "pygments_lexer": "ipython3",
   "version": "3.7.1"
  }
 },
 "nbformat": 4,
 "nbformat_minor": 4
}
